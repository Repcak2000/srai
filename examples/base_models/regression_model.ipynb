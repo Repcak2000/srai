{
 "cells": [
  {
   "cell_type": "code",
   "execution_count": null,
   "metadata": {},
   "outputs": [],
   "source": [
    "import os\n",
    "\n",
    "import torch\n",
    "import torch.nn as nn\n",
    "import torch.optim as optim\n",
    "from sklearn.model_selection import train_test_split\n",
    "from torch.utils.data import Subset\n",
    "\n",
    "from srai.datasets import AirbnbMulticityDataset\n",
    "from srai.models import Evaluator, RegressionBaseModel, Trainer, Vectorizer"
   ]
  },
  {
   "cell_type": "code",
   "execution_count": null,
   "metadata": {},
   "outputs": [],
   "source": [
    "gdf_airbnb = AirbnbMulticityDataset().load(os.getenv(\"HF_TOKEN\"))\n",
    "gdf_airbnb = gdf_airbnb.loc[gdf_airbnb[\"city\"].isin([\"paris\"])]"
   ]
  },
  {
   "cell_type": "code",
   "execution_count": null,
   "metadata": {},
   "outputs": [],
   "source": [
    "numerical_columns = [\n",
    "    \"number_of_reviews\",\n",
    "    \"minimum_nights\",\n",
    "    \"availability_365\",\n",
    "    \"calculated_host_listings_count\",\n",
    "    \"number_of_reviews_ltm\",\n",
    "]\n",
    "\n",
    "vectorizer = Vectorizer(\n",
    "    gdf_dataset=gdf_airbnb,\n",
    "    target_column_name=\"price\",\n",
    "    numerical_columns=numerical_columns,\n",
    "    embedder_type=\"Hex2VecEmbedder\",\n",
    "    h3_resolution=8,\n",
    ")"
   ]
  },
  {
   "cell_type": "code",
   "execution_count": null,
   "metadata": {},
   "outputs": [],
   "source": [
    "dataset_airbnb = vectorizer.get_dataset()\n",
    "embedding_size = dataset_airbnb[\"X\"].shape[1]"
   ]
  },
  {
   "cell_type": "code",
   "execution_count": null,
   "metadata": {},
   "outputs": [],
   "source": [
    "train_indices, test_indices = train_test_split(\n",
    "    range(len(dataset_airbnb)),\n",
    "    test_size=0.2,\n",
    ")\n",
    "\n",
    "train_split = Subset(dataset_airbnb, train_indices)\n",
    "test_split = Subset(dataset_airbnb, test_indices)"
   ]
  },
  {
   "cell_type": "code",
   "execution_count": null,
   "metadata": {},
   "outputs": [],
   "source": [
    "regression_model = RegressionBaseModel(embedding_size)"
   ]
  },
  {
   "cell_type": "code",
   "execution_count": null,
   "metadata": {},
   "outputs": [],
   "source": [
    "loss_fn = nn.L1Loss()\n",
    "optimizer = optim.Adam(regression_model.parameters(), lr=0.001)\n",
    "device = torch.device(\"cuda\" if torch.cuda.is_available() else \"cpu\")\n",
    "args = {\n",
    "    \"batch_size\": 32,\n",
    "    \"task\": \"regression\",\n",
    "    \"epochs\": 10,\n",
    "    \"device\": device,\n",
    "    \"metric2look4\": \"MAE\",\n",
    "}\n",
    "trainer = Trainer(\n",
    "    model=regression_model,\n",
    "    train_dataset=train_split,\n",
    "    eval_dataset=test_split,\n",
    "    training_args=args,\n",
    "    optimizer=optimizer,\n",
    "    loss_fn=loss_fn,\n",
    ")"
   ]
  },
  {
   "cell_type": "code",
   "execution_count": null,
   "metadata": {},
   "outputs": [],
   "source": [
    "model, _, _ = trainer.train()"
   ]
  },
  {
   "cell_type": "code",
   "execution_count": null,
   "metadata": {},
   "outputs": [],
   "source": [
    "evaluator = Evaluator(task=\"regression\", device=device)"
   ]
  },
  {
   "cell_type": "code",
   "execution_count": null,
   "metadata": {},
   "outputs": [],
   "source": [
    "evaluator.evaluate(model, test_split)"
   ]
  }
 ],
 "metadata": {
  "kernelspec": {
   "display_name": ".venv",
   "language": "python",
   "name": "python3"
  },
  "language_info": {
   "codemirror_mode": {
    "name": "ipython",
    "version": 3
   },
   "file_extension": ".py",
   "mimetype": "text/x-python",
   "name": "python",
   "nbconvert_exporter": "python",
   "pygments_lexer": "ipython3",
   "version": "3.10.11"
  }
 },
 "nbformat": 4,
 "nbformat_minor": 2
}
