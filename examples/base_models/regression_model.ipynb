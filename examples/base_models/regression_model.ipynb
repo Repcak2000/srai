{
 "cells": [
  {
   "cell_type": "code",
   "execution_count": null,
   "metadata": {},
   "outputs": [],
   "source": [
    "import os\n",
    "\n",
    "from sklearn.model_selection import train_test_split\n",
    "from torch.utils.data import DataLoader\n",
    "\n",
    "from srai.datasets import AirbnbMulticityDataset\n",
    "from srai.models import RegressionBaseModel, Vectorizer"
   ]
  },
  {
   "cell_type": "code",
   "execution_count": null,
   "metadata": {},
   "outputs": [],
   "source": [
    "gdf_airbnb = AirbnbMulticityDataset().load(os.getenv(\"HF_TOKEN\"))\n",
    "gdf_airbnb = gdf_airbnb.loc[gdf_airbnb[\"city\"].isin([\"paris\"])]"
   ]
  },
  {
   "cell_type": "code",
   "execution_count": null,
   "metadata": {},
   "outputs": [],
   "source": [
    "numerical_columns = [\n",
    "    \"number_of_reviews\",\n",
    "    \"minimum_nights\",\n",
    "    \"availability_365\",\n",
    "    \"calculated_host_listings_count\",\n",
    "    \"number_of_reviews_ltm\",\n",
    "]\n",
    "\n",
    "vectorizer = Vectorizer(\n",
    "    gdf_dataset=gdf_airbnb,\n",
    "    target_column_name=\"price\",\n",
    "    numerical_columns=numerical_columns,\n",
    "    embedder_type=\"Hex2VecEmbedder\",\n",
    "    h3_resolution=8,\n",
    ")"
   ]
  },
  {
   "cell_type": "code",
   "execution_count": null,
   "metadata": {},
   "outputs": [],
   "source": [
    "dataset_airbnb = vectorizer.get_dataset()"
   ]
  },
  {
   "cell_type": "code",
   "execution_count": null,
   "metadata": {},
   "outputs": [],
   "source": [
    "X_train, X_test, y_train, y_test = train_test_split(\n",
    "    dataset_airbnb[\"X\"],\n",
    "    dataset_airbnb[\"y\"].reshape(-1, 1),\n",
    "    train_size=0.8,\n",
    "    shuffle=True,\n",
    ")\n",
    "X_train = X_train.to(vectorizer.device)\n",
    "X_test = X_test.to(vectorizer.device)\n",
    "y_train = y_train.to(vectorizer.device)\n",
    "y_test = y_test.to(vectorizer.device)"
   ]
  },
  {
   "cell_type": "code",
   "execution_count": null,
   "metadata": {},
   "outputs": [],
   "source": [
    "batch_size = 32\n",
    "train_data = DataLoader(list(zip(X_train, y_train)), batch_size=batch_size, shuffle=True)\n",
    "test_data = DataLoader(list(zip(X_test, y_test)), batch_size=batch_size)"
   ]
  },
  {
   "cell_type": "code",
   "execution_count": null,
   "metadata": {},
   "outputs": [],
   "source": [
    "for x, y in train_data:\n",
    "    print(x.shape)\n",
    "    print(y.shape)\n",
    "    break"
   ]
  },
  {
   "cell_type": "code",
   "execution_count": null,
   "metadata": {},
   "outputs": [],
   "source": [
    "regression_model = RegressionBaseModel(X_train.shape[1])\n",
    "regression_model"
   ]
  },
  {
   "cell_type": "code",
   "execution_count": null,
   "metadata": {},
   "outputs": [],
   "source": [
    "# TODO: Trainer part"
   ]
  }
 ],
 "metadata": {
  "kernelspec": {
   "display_name": ".venv",
   "language": "python",
   "name": "python3"
  },
  "language_info": {
   "codemirror_mode": {
    "name": "ipython",
    "version": 3
   },
   "file_extension": ".py",
   "mimetype": "text/x-python",
   "name": "python",
   "nbconvert_exporter": "python",
   "pygments_lexer": "ipython3",
   "version": "3.11.8"
  }
 },
 "nbformat": 4,
 "nbformat_minor": 2
}
