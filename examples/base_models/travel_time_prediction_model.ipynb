{
 "cells": [
  {
   "cell_type": "markdown",
   "id": "0",
   "metadata": {},
   "source": [
    "# Imports"
   ]
  },
  {
   "cell_type": "code",
   "execution_count": null,
   "id": "1",
   "metadata": {},
   "outputs": [],
   "source": [
    "import os\n",
    "\n",
    "import pandas as pd\n",
    "from tqdm.autonotebook import tqdm\n",
    "\n",
    "from srai.datasets import PortoTaxiDataset"
   ]
  },
  {
   "cell_type": "markdown",
   "id": "2",
   "metadata": {},
   "source": [
    "# Parameters"
   ]
  },
  {
   "cell_type": "code",
   "execution_count": null,
   "id": "3",
   "metadata": {},
   "outputs": [],
   "source": [
    "subset_size = 10_000\n",
    "\n",
    "target_column = \"trip_id\"\n",
    "bucket_number = 3"
   ]
  },
  {
   "cell_type": "markdown",
   "id": "4",
   "metadata": {},
   "source": [
    "# Data Loading"
   ]
  },
  {
   "cell_type": "code",
   "execution_count": null,
   "id": "5",
   "metadata": {},
   "outputs": [],
   "source": [
    "%load_ext dotenv\n",
    "\n",
    "%dotenv"
   ]
  },
  {
   "cell_type": "code",
   "execution_count": null,
   "id": "6",
   "metadata": {},
   "outputs": [],
   "source": [
    "porto_taxi = PortoTaxiDataset()\n",
    "hf_token = os.getenv(\"HF_TOKEN\")\n",
    "gdf_porto_taxi = porto_taxi.load(hf_token=hf_token)"
   ]
  },
  {
   "cell_type": "markdown",
   "id": "7",
   "metadata": {},
   "source": [
    "# [Temp] Use subset"
   ]
  },
  {
   "cell_type": "code",
   "execution_count": null,
   "id": "8",
   "metadata": {},
   "outputs": [],
   "source": [
    "gdf_porto_taxi = gdf_porto_taxi.head(subset_size)"
   ]
  },
  {
   "cell_type": "markdown",
   "id": "9",
   "metadata": {},
   "source": [
    "# Data Splitting"
   ]
  },
  {
   "cell_type": "code",
   "execution_count": null,
   "id": "10",
   "metadata": {},
   "outputs": [],
   "source": [
    "train_gdf, dev_gdf, test_gdf = porto_taxi.train_dev_test_split_bucket_trajectory(\n",
    "    gdf_porto_taxi, target_column=target_column, bucket_number=bucket_number\n",
    ")"
   ]
  },
  {
   "cell_type": "code",
   "execution_count": null,
   "id": "11",
   "metadata": {},
   "outputs": [],
   "source": [
    "def calculate_trajectory_duration(df: pd.DataFrame):\n",
    "    \"\"\"\n",
    "    Calculate the duration of a trajectory based on timestamps in a DataFrame.\n",
    "\n",
    "    This function computes the duration of a trajectory by finding the\n",
    "    difference between the minimum and maximum timestamps in the given\n",
    "    DataFrame and returns the duration in seconds.\n",
    "\n",
    "    Parameters:\n",
    "    df (pandas.DataFrame): A DataFrame containing a column 'timestamp'\n",
    "                           with datetime objects.\n",
    "\n",
    "    Returns:\n",
    "    float: The duration of the trajectory in seconds.\n",
    "    \"\"\"\n",
    "    min_time = df[\"timestamp\"].min()\n",
    "    max_time = df[\"timestamp\"].max()\n",
    "    return (max_time - min_time).total_seconds()"
   ]
  },
  {
   "cell_type": "code",
   "execution_count": null,
   "id": "12",
   "metadata": {},
   "outputs": [],
   "source": [
    "tqdm.pandas()\n",
    "\n",
    "train_gdf.groupby(target_column).progress_apply(calculate_trajectory_duration).reset_index(\n",
    "    name=\"duration\"\n",
    ").describe()"
   ]
  },
  {
   "cell_type": "code",
   "execution_count": null,
   "id": "13",
   "metadata": {},
   "outputs": [],
   "source": [
    "dev_gdf.groupby(target_column).progress_apply(calculate_trajectory_duration).reset_index(\n",
    "    name=\"duration\"\n",
    ").describe()"
   ]
  },
  {
   "cell_type": "code",
   "execution_count": null,
   "id": "14",
   "metadata": {},
   "outputs": [],
   "source": [
    "test_gdf.groupby(target_column).progress_apply(calculate_trajectory_duration).reset_index(\n",
    "    name=\"duration\"\n",
    ").describe()"
   ]
  }
 ],
 "metadata": {
  "kernelspec": {
   "display_name": "Python 3",
   "language": "python",
   "name": "python3"
  },
  "language_info": {
   "codemirror_mode": {
    "name": "ipython",
    "version": 2
   },
   "file_extension": ".py",
   "mimetype": "text/x-python",
   "name": "python",
   "nbconvert_exporter": "python",
   "pygments_lexer": "ipython2",
   "version": "2.7.6"
  }
 },
 "nbformat": 4,
 "nbformat_minor": 5
}
