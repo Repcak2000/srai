{
 "cells": [
  {
   "cell_type": "code",
   "execution_count": 5,
   "metadata": {},
   "outputs": [],
   "source": [
    "import os\n",
    "\n",
    "import geopandas as gpd\n",
    "import pandas as pd\n",
    "from shapely import LineString, MultiPoint\n",
    "\n",
    "from srai.loaders import HFLoader\n",
    "\n",
    "%load_ext dotenv\n",
    "%dotenv"
   ]
  },
  {
   "cell_type": "code",
   "execution_count": 6,
   "metadata": {},
   "outputs": [],
   "source": [
    "token = os.environ[\"HF_access_token\"]"
   ]
  },
  {
   "cell_type": "code",
   "execution_count": 7,
   "metadata": {},
   "outputs": [],
   "source": [
    "hf_loader = HFLoader(hf_token=token)"
   ]
  },
  {
   "cell_type": "code",
   "execution_count": 8,
   "metadata": {},
   "outputs": [],
   "source": [
    "data = hf_loader.load(dataset_name=\"nyc_bike\", name=\"nyc_bike_2014\")"
   ]
  },
  {
   "cell_type": "code",
   "execution_count": null,
   "metadata": {},
   "outputs": [],
   "source": [
    "def make_geodataframe_previous(dataframe: pd.DataFrame) -> gpd.GeoDataFrame:\n",
    "    \"\"\"\n",
    "    Function to get GeoDataFrame with location data.\n",
    "\n",
    "    Args:\n",
    "        dataframe: Data of NYC Bike trajectories dataset.\n",
    "\n",
    "    Returns:\n",
    "        GeoDataFrame of dataset, contatins location data.\n",
    "    \"\"\"\n",
    "    start_station_geometry = gpd.points_from_xy(\n",
    "        x=dataframe[\"start station longitude\"], y=dataframe[\"start station latitude\"]\n",
    "    )\n",
    "    end_station_geometry = gpd.points_from_xy(\n",
    "        x=dataframe[\"end station longitude\"], y=dataframe[\"end station latitude\"]\n",
    "    )\n",
    "    multi_point_stations_geometries = [\n",
    "        MultiPoint([start, end]) for start, end in zip(start_station_geometry, end_station_geometry)\n",
    "    ]\n",
    "    gdf = gpd.GeoDataFrame(\n",
    "        dataframe.drop(\n",
    "            [\n",
    "                \"start station latitude\",\n",
    "                \"start station longitude\",\n",
    "                \"end station latitude\",\n",
    "                \"end station longitude\",\n",
    "            ],\n",
    "            axis=1,\n",
    "        ),\n",
    "        geometry=multi_point_stations_geometries,\n",
    "        crs=\"EPSG:4326\",\n",
    "    )\n",
    "\n",
    "    return gdf"
   ]
  },
  {
   "cell_type": "code",
   "execution_count": null,
   "metadata": {},
   "outputs": [],
   "source": [
    "gdf = make_geodataframe_previous(data)"
   ]
  },
  {
   "cell_type": "code",
   "execution_count": null,
   "metadata": {},
   "outputs": [],
   "source": [
    "data.head()"
   ]
  },
  {
   "cell_type": "code",
   "execution_count": null,
   "metadata": {},
   "outputs": [],
   "source": [
    "data = hf_loader.load(dataset_name=\"geolife\")"
   ]
  },
  {
   "cell_type": "code",
   "execution_count": null,
   "metadata": {},
   "outputs": [],
   "source": [
    "data[\"geometry\"] = data[\"arrays_geometry\"].map(LineString)\n",
    "geolife = gpd.GeoDataFrame(\n",
    "    data.drop([\"arrays_geometry\"], axis=1),\n",
    "    geometry=data[\"geometry\"],\n",
    "    crs=\"EPSG:4326\",\n",
    ")"
   ]
  },
  {
   "cell_type": "code",
   "execution_count": null,
   "metadata": {},
   "outputs": [],
   "source": [
    "geolife.head()"
   ]
  }
 ],
 "metadata": {
  "kernelspec": {
   "display_name": "venv",
   "language": "python",
   "name": "python3"
  },
  "language_info": {
   "codemirror_mode": {
    "name": "ipython",
    "version": 3
   },
   "file_extension": ".py",
   "mimetype": "text/x-python",
   "name": "python",
   "nbconvert_exporter": "python",
   "pygments_lexer": "ipython3",
   "version": "3.11.8"
  }
 },
 "nbformat": 4,
 "nbformat_minor": 2
}
